{
 "cells": [
  {
   "cell_type": "markdown",
   "metadata": {},
   "source": [
    "# Reaction Diffusion\n",
    "\n",
    "[행스모][5] 에서 일산 호수 공원을 의도적으로 탐색/탐구하면서 걷다가 아래 사진과 같은 메타세콰이어 나무 줄기가 눈에 들어왔습니다.\n",
    "\n",
    "<img src=\"./tree/master/img/IMG_20150523_113026.jpg\" width=50% style=\"margin: 0\"/>\n",
    "\n",
    "옆으로 자라나는 과정에서 저런 모양을 가지려면... 어떻게 저렇게 되는거지? 라는 의문. 모르겠다에 이어 알고싶다는 생각이 들더군요.\n",
    "집에 돌아와 검색을 해보니 나무가 옆으로 자라나는 것을 2차 성장이라고 부르고, 껍질 부분의 성장에 관여하는 세포를 cork cambium 이라고 부른다는 것을 알게 되었습니다.\n",
    "\n",
    "[Secondary Growth in Roots and Stems](http://www.kshitij-pmt.com/Biology/Anatomy-of-flowering-plants/secondary-growth-in-roots-and-stems.aspx)를 보면 껍질 사이가 벌어지고 자라나는 과정도 살짝 설명이 있네요.\n",
    "\n",
    "![](http://botit.botany.wisc.edu/Resources/Botany/Shoot/Stem/Medicago/Vascular%20Cambium.jpg)\n",
    "이런 모양도 참 신비롭습니다.\n",
    "\n",
    "그 뒤에 [최승준][6]님과 나무의 횡적 성장에 대한 이야기를 나누게 되었고, voronoi 혹은 raction-diffusion 과의 연관성이 있을 수 있다는 말에 검색을 하기 시작했습니다.\n",
    "\n",
    "사실 나무의 2차 성장 과정 및 나무 줄기 모양의 형성 과정이 reaction-diffusion 과 관련 있는 지 없는 지 알 수는 없습니다.\n",
    "하지만 reaction-diffusion 을 검색하다 보니 나오는 다음과 같은 무늬들은 제 관심을 끌기에 충분했지요.\n",
    "![](http://www.karlsims.com/rd-kf-examples.png)\n",
    "\n",
    "\n",
    "## 참고\n",
    "* [Alan Turing 이 1952 년에 발표한 논문][1]\n",
    "* [Simulating a Partial Differential Equation in Python: reaction-diffusion systems and Turing patterns][2]\n",
    "* [Reaction-Diffusion Tutorial - Karl Sims][3]\n",
    "* [Reaction-diffusion system - Wikipedia][4]\n",
    "\n",
    "[1]: http://hopf.chem.brandeis.edu/members_content/yanglingfa/pattern/Turing/The%20Chemical%20Basis%20of%20Morphogenesis.pdf\n",
    "[2]: http://ipython-books.github.io/featured-05/\n",
    "[3]: http://www.karlsims.com/rd.html\n",
    "[4]: https://en.wikipedia.org/wiki/Reaction%E2%80%93diffusion_system\n",
    "[5]: https://www.facebook.com/groups/176318632564071/\n",
    "[6]: https://www.facebook.com/seungjoon.choi\n",
    "[7]: ./img/IMG_20150523_113026.jpg"
   ]
  },
  {
   "cell_type": "markdown",
   "metadata": {
    "collapsed": true
   },
   "source": []
  },
  {
   "cell_type": "code",
   "execution_count": null,
   "metadata": {
    "collapsed": true
   },
   "outputs": [],
   "source": []
  }
 ],
 "metadata": {
  "kernelspec": {
   "display_name": "Python 3",
   "language": "python",
   "name": "python3"
  },
  "language_info": {
   "codemirror_mode": {
    "name": "ipython",
    "version": 3
   },
   "file_extension": ".py",
   "mimetype": "text/x-python",
   "name": "python",
   "nbconvert_exporter": "python",
   "pygments_lexer": "ipython3",
   "version": "3.4.3"
  }
 },
 "nbformat": 4,
 "nbformat_minor": 0
}
